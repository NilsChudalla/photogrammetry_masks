{
 "cells": [
  {
   "cell_type": "markdown",
   "id": "750927d9",
   "metadata": {},
   "source": [
    "### Author: Nils Chudalla\n",
    "<b>This code builds masks for agisoft. Therefore, image file names and mask names have to be identical in the default settings. Have a backup of your photos at hand and make sure to write your masks to a folder other than the photos folder!</b>"
   ]
  },
  {
   "cell_type": "markdown",
   "id": "49f98ad0",
   "metadata": {},
   "source": [
    "<H1>How to use:</H1>\n",
    "<img src=\"input.jpg\"/>\n",
    "<br></br>\n",
    "The idea behind this script is to islate colors in picture for Structure from Motion, to generate binary masks for model calculation. In a seperate window, cv2 will open the <b>test_im</b> selected. Use the <a href=\"https://en.wikipedia.org/wiki/HSL_and_HSV\">HSV</a> color representation to isolate the color you wish for. You can combine multiple masks. This workflow includes dilation with a (5x5) kernel to make masks less sharp or account for imperfect overlap, so it is recommended to go with a more conservative filter or keep the amount of dilation iterations low.\n",
    "<br></br>\n",
    "\n",
    "<img src=\"example.png\"/>\n"
   ]
  },
  {
   "cell_type": "markdown",
   "id": "ba9b9bcd",
   "metadata": {},
   "source": [
    "Start with the essentials: Imports and define folders of input"
   ]
  },
  {
   "cell_type": "code",
   "execution_count": 1,
   "id": "5d77a593",
   "metadata": {
    "ExecuteTime": {
     "end_time": "2023-07-17T11:35:51.617924Z",
     "start_time": "2023-07-17T11:35:50.896841Z"
    }
   },
   "outputs": [],
   "source": [
    "# Imports\n",
    "\n",
    "import os\n",
    "from photogrammetry_masks import *\n",
    "# additional packages required in \"photogrammetry_masks.py\"\n",
    "# cv2\n",
    "# numpy"
   ]
  },
  {
   "cell_type": "code",
   "execution_count": 2,
   "id": "f4842b1e",
   "metadata": {
    "ExecuteTime": {
     "end_time": "2023-07-17T11:35:52.168156Z",
     "start_time": "2023-07-17T11:35:52.151547Z"
    },
    "scrolled": true
   },
   "outputs": [
    {
     "data": {
      "text/plain": [
       "['input.JPG']"
      ]
     },
     "execution_count": 2,
     "metadata": {},
     "output_type": "execute_result"
    }
   ],
   "source": [
    "# define input folder\n",
    "image_dir = './jpg/'\n",
    "\n",
    "# list files in input folder\n",
    "file_list = os.listdir(image_dir)\n",
    "\n",
    "# define a test file\n",
    "test_im = file_list[0]\n",
    "\n",
    "file_list"
   ]
  },
  {
   "cell_type": "code",
   "execution_count": 7,
   "id": "759a1f95",
   "metadata": {},
   "outputs": [
    {
     "data": {
      "text/plain": [
       "'./jpg/input.JPG'"
      ]
     },
     "execution_count": 7,
     "metadata": {},
     "output_type": "execute_result"
    }
   ],
   "source": [
    "# join path to input image\n",
    "test_im_path = os.path.join(image_dir,test_im)\n",
    "test_im_path"
   ]
  },
  {
   "cell_type": "markdown",
   "id": "5be3c120",
   "metadata": {},
   "source": [
    "Define masks: First add the name of the mask to the list \"mask_types\". Each mask requires input in two windows:\n",
    "1. Move slider until ONLY the color remains that is to be filtered. Then close the window with \"q\". \n",
    "2. Here you can add additional iterations of dilation to mask in wider areas around filtered regions. Close window with \"q\".\n",
    "<br></br>Repeat for next mask"
   ]
  },
  {
   "cell_type": "code",
   "execution_count": 4,
   "id": "e78e2ff4",
   "metadata": {},
   "outputs": [],
   "source": [
    "mask_list = []\n",
    "mask_types = ['blue', 'green']\n",
    "\n",
    "for imask in mask_types:\n",
    "    current_mask = color_mask(imask)\n",
    "    current_mask.define_hsv_limits(test_im_path)\n",
    "    current_mask.define_mask(test_im_path)\n",
    "    mask_list.append(current_mask)\n"
   ]
  },
  {
   "cell_type": "markdown",
   "id": "25862e78",
   "metadata": {},
   "source": [
    "Now create binary masks: enter the list of masks previously generated, an input image and a folder to which you want to save your masks.<br></br><b>This code builds masks for agisoft. Therefore, image file names and mask names have to be identical by default. Have a backup of your photos at hand and make sure to write your masks to a folder other than the photos folder!</b>"
   ]
  },
  {
   "cell_type": "code",
   "execution_count": 5,
   "id": "8457ae9f",
   "metadata": {},
   "outputs": [
    {
     "name": "stdout",
     "output_type": "stream",
     "text": [
      "File input.JPG written\n"
     ]
    }
   ],
   "source": [
    "apply_combined_masks(mask_list, test_im_path, 'masks')"
   ]
  },
  {
   "cell_type": "code",
   "execution_count": 8,
   "id": "6ced281e",
   "metadata": {},
   "outputs": [
    {
     "name": "stdout",
     "output_type": "stream",
     "text": [
      "File input.JPG written\n"
     ]
    }
   ],
   "source": [
    "# This code can be easily looped through all images \n",
    "\n",
    "for ifile in file_list:\n",
    "    im_path = os.path.join(image_dir,ifile)\n",
    "    apply_combined_masks(mask_list, test_im_path, 'masks')"
   ]
  }
 ],
 "metadata": {
  "kernelspec": {
   "display_name": "Python 3 (ipykernel)",
   "language": "python",
   "name": "python3"
  },
  "language_info": {
   "codemirror_mode": {
    "name": "ipython",
    "version": 3
   },
   "file_extension": ".py",
   "mimetype": "text/x-python",
   "name": "python",
   "nbconvert_exporter": "python",
   "pygments_lexer": "ipython3",
   "version": "3.11.5"
  },
  "varInspector": {
   "cols": {
    "lenName": 16,
    "lenType": 16,
    "lenVar": 40
   },
   "kernels_config": {
    "python": {
     "delete_cmd_postfix": "",
     "delete_cmd_prefix": "del ",
     "library": "var_list.py",
     "varRefreshCmd": "print(var_dic_list())"
    },
    "r": {
     "delete_cmd_postfix": ") ",
     "delete_cmd_prefix": "rm(",
     "library": "var_list.r",
     "varRefreshCmd": "cat(var_dic_list()) "
    }
   },
   "types_to_exclude": [
    "module",
    "function",
    "builtin_function_or_method",
    "instance",
    "_Feature"
   ],
   "window_display": false
  }
 },
 "nbformat": 4,
 "nbformat_minor": 5
}
